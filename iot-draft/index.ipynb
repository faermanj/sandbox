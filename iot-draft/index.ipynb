{
 "cells": [
  {
   "cell_type": "markdown",
   "metadata": {},
   "source": [
    "# Learning AWS IoT\n",
    "\n",
    "Welcome to the Learning AWS IoT course! Here we will practice how to build solutions for the internet of things. Like in many business, our focus is to build connected devices and applications, not manage servers. We'll leverage  managed cloud services to remove the undiferentiated heavy lifting and focus on the business logic. However, we still concern in understanding how security, scalability and other requirements are fulfilled. \n",
    "\n"
   ]
  },
  {
   "cell_type": "markdown",
   "metadata": {},
   "source": [
    "# Disclaimers\n",
    "\n",
    "Creating AWS resources may incur in costs. However, even if you go above the 500.000 messages included in the free tier, another million messages would cost about one dollar.  Just remember to delete the resources when you are done.\n",
    "\n",
    "The security settings in this workshop are extremely open. This way management operations at any level can be demonstrated. Do not share your notebook instance. Only run this workshop on accounts prepared for educational or personal purposes.\n",
    "\n",
    "This project is not sponsored or supported by Amazon or its affiliates. The text, code and opinions in this open-source respository are exclusive from its authors."
   ]
  },
  {
   "cell_type": "markdown",
   "metadata": {},
   "source": [
    "# Running Jupyter Notebooks"
   ]
  },
  {
   "cell_type": "markdown",
   "metadata": {},
   "source": [
    "This workshop is built as a jupyter notebook so we can build the concepts and execute the code step-by-step. You can execute a cell by selecting it and using the \"run\" menu action or shift+enter shortcut. Make sure you execute every cell in order, as each one defines variables or creates resources for the next one. But don't just execute the cell - the whole point of this workshop is undestanding what each of them do. Any system supporting python and bash should be sufficient to run the notebooks in this course. I recommend using https://mybinder.org"
   ]
  },
  {
   "cell_type": "markdown",
   "metadata": {},
   "source": [
    "# Soundcheck"
   ]
  },
  {
   "cell_type": "markdown",
   "metadata": {},
   "source": [
    "## Python"
   ]
  },
  {
   "cell_type": "markdown",
   "metadata": {},
   "source": [
    "The main tools used in this course are the Python 3 programming language"
   ]
  },
  {
   "cell_type": "code",
   "execution_count": null,
   "metadata": {},
   "outputs": [],
   "source": [
    "!python --version\n",
    "!pip install --upgrade pip"
   ]
  },
  {
   "cell_type": "markdown",
   "metadata": {},
   "source": [
    "Install the latest [AWS IoT Pytion client library](https://github.com/aws/aws-iot-device-sdk-python)"
   ]
  },
  {
   "cell_type": "code",
   "execution_count": null,
   "metadata": {},
   "outputs": [],
   "source": [
    "!pip install AWSIoTPythonSDK\n",
    "!pip show AWSIoTPythonSDK"
   ]
  },
  {
   "cell_type": "markdown",
   "metadata": {},
   "source": [
    "This cell uses python code to get the current user home directory, where we will store some files, and jupyter prints the output of the last line in the cell."
   ]
  },
  {
   "cell_type": "code",
   "execution_count": null,
   "metadata": {},
   "outputs": [],
   "source": [
    "from pathlib import Path\n",
    "home = str(Path.home())\n",
    "home"
   ]
  },
  {
   "cell_type": "markdown",
   "metadata": {},
   "source": [
    "This is quite an useful variable so let's ask Jupyter to store it so we can use it in other notebooks."
   ]
  },
  {
   "cell_type": "code",
   "execution_count": null,
   "metadata": {},
   "outputs": [],
   "source": [
    "%store home"
   ]
  },
  {
   "cell_type": "markdown",
   "metadata": {},
   "source": [
    "Another helpful variable is a unique identifier to name our AWS resources. This way you can easily find or identify the resources created by this workshop. It also helps to prevent naming clashes when using a shared AWS account."
   ]
  },
  {
   "cell_type": "code",
   "execution_count": null,
   "metadata": {},
   "outputs": [],
   "source": [
    "from datetime import datetime\n",
    "unique = datetime.now().strftime('lai%S%f')\n",
    "%store unique\n",
    "unique"
   ]
  },
  {
   "cell_type": "markdown",
   "metadata": {},
   "source": [
    "## AWS Command Line Interface \n"
   ]
  },
  {
   "cell_type": "code",
   "execution_count": null,
   "metadata": {},
   "outputs": [],
   "source": [
    "!pip install -U awscli"
   ]
  },
  {
   "cell_type": "code",
   "execution_count": null,
   "metadata": {},
   "outputs": [],
   "source": [
    "!aws --version"
   ]
  },
  {
   "cell_type": "markdown",
   "metadata": {},
   "source": [
    "If you are running this notebook on your computer, mybinder.org or any environment not authenitcated, use the following commands to setup authentication."
   ]
  },
  {
   "cell_type": "code",
   "execution_count": null,
   "metadata": {},
   "outputs": [],
   "source": [
    "# AWS Authentication"
   ]
  },
  {
   "cell_type": "code",
   "execution_count": null,
   "metadata": {},
   "outputs": [],
   "source": [
    "!aws configure set aws_access_key_id \"YOUR_AWS_ACCESS_KEY_ID\"\n",
    "!aws configure set aws_secret_access_key \"YOUR_AWS_SECRET_ACCESS_KEY\"\n",
    "!aws configure set default.region \"us-east-1\""
   ]
  },
  {
   "cell_type": "markdown",
   "metadata": {},
   "source": [
    "Local environment is checked, let's see cloud conectivity. In the following cells we fetch the list of available regions both using the AWS SDK for Python (a.k.a. boto3) and the AWS Command Line Interface. This is important to highlight that they are clients to the same web services. "
   ]
  },
  {
   "cell_type": "code",
   "execution_count": null,
   "metadata": {},
   "outputs": [],
   "source": [
    "!aws ec2 describe-regions "
   ]
  },
  {
   "cell_type": "code",
   "execution_count": null,
   "metadata": {},
   "outputs": [],
   "source": [
    "import boto3\n",
    "\n",
    "ec2 = boto3.client('ec2')\n",
    "response = ec2.describe_regions()\n",
    "for region in response[\"Regions\"]:\n",
    "    print(region['RegionName'])"
   ]
  },
  {
   "cell_type": "markdown",
   "metadata": {},
   "source": [
    "Ready to rock!\n",
    "\n",
    "**Proceed to [AWS IoT Connectivity and Security Basics](aws-iot-basics.ipynb)**"
   ]
  }
 ],
 "metadata": {
  "kernelspec": {
   "display_name": "Python 3",
   "language": "python",
   "name": "python3"
  },
  "language_info": {
   "codemirror_mode": {
    "name": "ipython",
    "version": 3
   },
   "file_extension": ".py",
   "mimetype": "text/x-python",
   "name": "python",
   "nbconvert_exporter": "python",
   "pygments_lexer": "ipython3",
   "version": "3.7.2"
  }
 },
 "nbformat": 4,
 "nbformat_minor": 2
}
